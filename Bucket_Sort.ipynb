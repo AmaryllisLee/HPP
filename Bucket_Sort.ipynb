{
 "cells": [
  {
   "cell_type": "markdown",
   "metadata": {},
   "source": [
    "# Bucket Sort\n",
    "Amaryllis Lee  <br>\n",
    "Studentnummer : 1735290"
   ]
  },
  {
   "cell_type": "markdown",
   "metadata": {},
   "source": [
    "### Pseudecode\n",
    "Een bucket sort begint met een een-dimensionale array van n nummers die gesorteerd worden en een twee-dimensionale array van integers, met rijen genummerd van 0 tot 9 en kolommen geïndexeerd van 0 tot n-1. Elke rij in de twee-dimensionale array heeft een bucket. Het algoritme werkt dan alsvolgt:\n",
    "\n",
    "1. Distribution pass \n",
    "   * Plaats elke waarde van de een-dimensionale array in een rij van de bucket array, gebaseerd op het meest rechtse cijfer in het getal.\n",
    "2. Gathering pass \n",
    "   * Loop door de bucket array rij voor rij, en kopieer de waardes terug in de originele array.\n",
    "\n",
    "\n",
    "**Opmerking van de docent** <br>\n",
    "*Ok, excuses dat ik het woord positief over het hoofd had gezien bij de aanpassingen van de opdracht\n",
    "ik geef wel een oplossing voor de negatieve dan in woorden: je kan de lijst opdelen in 2 lijsten, negatieve en positieve getallen, dan de negatieve alles keer -1 doen, sorteren, reversen, weer keer -1\n",
    "dan hoef je verder geen extra ingewikkelde dingen toe te voegen in je bucket sort*\n"
   ]
  },
  {
   "cell_type": "code",
   "execution_count": 1,
   "metadata": {},
   "outputs": [],
   "source": [
    "import numpy as np\n",
    "import timeit"
   ]
  },
  {
   "cell_type": "code",
   "execution_count": 2,
   "metadata": {},
   "outputs": [],
   "source": [
    "#The 2D array will be a 10x n-1 matrix of None values"
   ]
  },
  {
   "cell_type": "code",
   "execution_count": 65,
   "metadata": {},
   "outputs": [],
   "source": [
    "def bucket_sort(lst: [int]) -> [int]:\n",
    "    digits = len(str(max(lst)))\n",
    "    \n",
    "    digit_position = 10\n",
    "    \n",
    "    for i in range(digits):\n",
    "        # Create bucket array\n",
    "        bucket_arr = [[] for x in range(10)]\n",
    "        \n",
    "        # Distribution pass\n",
    "        for elem in lst:\n",
    "            r = int(elem/10**(i-1) % 10) #Moet aangepast worden\n",
    "#             print(elem/10**(i-1))\n",
    "#             print(\"{} {}\".format(elem, r))\n",
    "            for row in range(len(bucket_arr)):\n",
    "                if r == row:\n",
    "                    bucket_arr[row].append(elem)\n",
    "    \n",
    "        # Gathering pass \n",
    "        # empty lst \n",
    "        lst = []\n",
    "        for row in bucket_arr: # for each row in bucket array\n",
    "            lst +=[i for i in row ]#if i is not None]\n",
    "        #print(lst)\n",
    "    \n",
    "    return lst\n",
    "        "
   ]
  },
  {
   "cell_type": "code",
   "execution_count": 66,
   "metadata": {},
   "outputs": [],
   "source": [
    "vb = [25, 346,12,8,55,355,155] # final vb "
   ]
  },
  {
   "cell_type": "code",
   "execution_count": 67,
   "metadata": {
    "scrolled": false
   },
   "outputs": [
    {
     "data": {
      "text/plain": [
       "[8, 12, 25, 346, 55, 355, 155]"
      ]
     },
     "execution_count": 67,
     "metadata": {},
     "output_type": "execute_result"
    }
   ],
   "source": [
    "bucket_sort(vb)"
   ]
  },
  {
   "cell_type": "code",
   "execution_count": 68,
   "metadata": {},
   "outputs": [],
   "source": [
    "def sort_list(arr: [int]) -> [int]: \n",
    "    \n",
    "    # Split list in positive en negative numbers\n",
    "    pos_list = [i for i in arr if i >= 0]\n",
    "    abs_neg_list = [i * -1 for i in arr if i < 0]\n",
    "       \n",
    "    # sort positive list \n",
    "    sorted_pos_list = bucket_sort(pos_list)\n",
    "    \n",
    "    # Process and sort negative list\n",
    "    # 2. Sort and reverse abs_neg_list\n",
    "    sorted_neg_list =  bucket_sort(abs_neg_list)[::-1]\n",
    "    # 4. Multiply sorted_neg_list by -1\n",
    "    sorted_neg_list = [i* -1 for i in sorted_neg_list]\n",
    "\n",
    "    # Merge sorted_pos_list and sorted_neg_list\n",
    "    return sorted_pos_list + sorted_neg_list\n"
   ]
  },
  {
   "cell_type": "markdown",
   "metadata": {},
   "source": [
    "De functie *bucket_sort* is niet compleet, maar vanwege gebrek aan tijd zal ik de stappen van de \n",
    "complexiteit analyse geven dmv de pseudocode en externe bronnen en de code. "
   ]
  },
  {
   "cell_type": "markdown",
   "metadata": {},
   "source": [
    "# Complexiteit analyse "
   ]
  },
  {
   "cell_type": "markdown",
   "metadata": {},
   "source": [
    "Uit https://www.bigocheatsheet.com kunne we zien  de tijds complextiteit van ee nbucket sort:\n"
   ]
  },
  {
   "cell_type": "markdown",
   "metadata": {},
   "source": [
    "Best case: O($n + k$) <br>\n",
    "Worst case: O($n^2$) <br>\n",
    "Average case:O($n + k$) <br>"
   ]
  },
  {
   "cell_type": "markdown",
   "metadata": {},
   "source": [
    "De ruimte complexiteit is gelijk aan O(n)"
   ]
  },
  {
   "cell_type": "code",
   "execution_count": null,
   "metadata": {},
   "outputs": [],
   "source": []
  }
 ],
 "metadata": {
  "kernelspec": {
   "display_name": "Python 3",
   "language": "python",
   "name": "python3"
  },
  "language_info": {
   "codemirror_mode": {
    "name": "ipython",
    "version": 3
   },
   "file_extension": ".py",
   "mimetype": "text/x-python",
   "name": "python",
   "nbconvert_exporter": "python",
   "pygments_lexer": "ipython3",
   "version": "3.7.3"
  }
 },
 "nbformat": 4,
 "nbformat_minor": 2
}
