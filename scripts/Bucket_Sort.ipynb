{
 "cells": [
  {
   "cell_type": "markdown",
   "metadata": {},
   "source": [
    "# Bucket Sort\n",
    "Amaryllis Lee  <br>\n",
    "Studentnummer : 1735290"
   ]
  },
  {
   "cell_type": "markdown",
   "metadata": {},
   "source": [
    "### Pseudecode\n",
    "Een bucket sort begint met een een-dimensionale array van n nummers die gesorteerd worden en een twee-dimensionale array van integers, met rijen genummerd van 0 tot 9 en kolommen geïndexeerd van 0 tot n-1. Elke rij in de twee-dimensionale array heeft een bucket. Het algoritme werkt dan alsvolgt:\n",
    "\n",
    "1. Distribution pass \n",
    "   * Plaats elke waarde van de een-dimensionale array in een rij van de bucket array, gebaseerd op het meest rechtse cijfer in het getal.\n",
    "2. Gathering pass \n",
    "   * Loop door de bucket array rij voor rij, en kopieer de waardes terug in de originele array.\n",
    "\n",
    "\n",
    "**Opmerking van de docent** <br>\n",
    "*Ok, excuses dat ik het woord positief over het hoofd had gezien bij de aanpassingen van de opdracht\n",
    "ik geef wel een oplossing voor de negatieve dan in woorden: je kan de lijst opdelen in 2 lijsten, negatieve en positieve getallen, dan de negatieve alles keer -1 doen, sorteren, reversen, weer keer -1\n",
    "dan hoef je verder geen extra ingewikkelde dingen toe te voegen in je bucket sort*\n"
   ]
  },
  {
   "cell_type": "code",
   "execution_count": 1,
   "metadata": {},
   "outputs": [],
   "source": [
    "import numpy as np\n",
    "import time\n",
    "import matplotlib.pyplot as plt\n",
    "%matplotlib inline"
   ]
  },
  {
   "cell_type": "code",
   "execution_count": 2,
   "metadata": {},
   "outputs": [],
   "source": [
    "#The 2D array will be a 10x n-1 matrix of None values"
   ]
  },
  {
   "cell_type": "code",
   "execution_count": 3,
   "metadata": {},
   "outputs": [],
   "source": [
    "def bucket_sort(lst: [int]) -> [int]:\n",
    "    digits = len(str(max(lst)))\n",
    "    \n",
    "    digit_position = 10\n",
    "    \n",
    "    for i in range(digits):\n",
    "        # Create bucket array\n",
    "        bucket_arr = [[] for x in range(10)]\n",
    "        \n",
    "        # Distribution pass\n",
    "        for elem in lst:\n",
    "            r = int(elem/10**(i-1) % 10) #Moet aangepast worden\n",
    "#             print(elem/10**(i-1))\n",
    "#             print(\"{} {}\".format(elem, r))\n",
    "            for row in range(len(bucket_arr)):\n",
    "                if r == row:\n",
    "                    bucket_arr[row].append(elem)\n",
    "    \n",
    "        # Gathering pass \n",
    "        # empty lst \n",
    "        lst = []\n",
    "        for row in bucket_arr: # for each row in bucket array\n",
    "            lst +=[i for i in row ]#if i is not None]\n",
    "        #print(lst)\n",
    "    \n",
    "    return lst\n",
    "        "
   ]
  },
  {
   "cell_type": "code",
   "execution_count": 4,
   "metadata": {},
   "outputs": [],
   "source": [
    "vb = [25, 346,12,8,55,355,155] # final vb "
   ]
  },
  {
   "cell_type": "code",
   "execution_count": 5,
   "metadata": {
    "scrolled": false
   },
   "outputs": [
    {
     "data": {
      "text/plain": [
       "[8, 12, 25, 346, 55, 355, 155]"
      ]
     },
     "execution_count": 5,
     "metadata": {},
     "output_type": "execute_result"
    }
   ],
   "source": [
    "bucket_sort(vb)"
   ]
  },
  {
   "cell_type": "code",
   "execution_count": 6,
   "metadata": {},
   "outputs": [],
   "source": [
    "def sort_list(arr: [int]) -> [int]: \n",
    "    \n",
    "    # Split list in positive en negative numbers\n",
    "    pos_list = [i for i in arr if i >= 0]\n",
    "    abs_neg_list = [i * -1 for i in arr if i < 0]\n",
    "       \n",
    "    # sort positive list \n",
    "    sorted_pos_list = bucket_sort(pos_list) if len(pos_list) != 0 else pos_list\n",
    "    \n",
    "    # Process and sort negative list\n",
    "    # 2. Sort and reverse abs_neg_list\n",
    "    sorted_neg_list =  bucket_sort(abs_neg_list)[::-1] if len(abs_neg_list) != 0 else abs_neg_list\n",
    "    # 4. Multiply sorted_neg_list by -1\n",
    "    sorted_neg_list = [i* -1 for i in sorted_neg_list]\n",
    "\n",
    "    # Merge sorted_pos_list and sorted_neg_list\n",
    "    return sorted_pos_list + sorted_neg_list\n"
   ]
  },
  {
   "cell_type": "code",
   "execution_count": 7,
   "metadata": {},
   "outputs": [
    {
     "data": {
      "text/plain": [
       "[8, 12, 25, 346, 55, 355, 155]"
      ]
     },
     "execution_count": 7,
     "metadata": {},
     "output_type": "execute_result"
    }
   ],
   "source": [
    "sort_list(vb)"
   ]
  },
  {
   "cell_type": "code",
   "execution_count": 8,
   "metadata": {},
   "outputs": [
    {
     "data": {
      "text/plain": [
       "[200, 0, 4, -2, -3000]"
      ]
     },
     "execution_count": 8,
     "metadata": {},
     "output_type": "execute_result"
    }
   ],
   "source": [
    "sort_list([-2, 4, 200, -3000, 0])"
   ]
  },
  {
   "cell_type": "code",
   "execution_count": null,
   "metadata": {},
   "outputs": [],
   "source": []
  },
  {
   "cell_type": "markdown",
   "metadata": {},
   "source": [
    "De functie *bucket_sort* is niet compleet, maar vanwege gebrek aan tijd zal ik de stappen van de \n",
    "complexiteit analyse geven dmv de pseudocode en externe bronnen en de code. "
   ]
  },
  {
   "cell_type": "markdown",
   "metadata": {},
   "source": [
    "# Complexiteit analyse "
   ]
  },
  {
   "cell_type": "markdown",
   "metadata": {},
   "source": [
    "Om de run time complexity te bepalen  ga ik zoals opdracht 1.1, de\n",
    "run time bepalen van een lijst van 100, 1000, 10000, 30000 willekuerige getallen.\n",
    "Als laats zal ik de resultaten plotten in een grafiek"
   ]
  },
  {
   "cell_type": "code",
   "execution_count": 9,
   "metadata": {},
   "outputs": [],
   "source": [
    "# Om de run time te bepalen voor deze lijsten zal ik de onderstaande fucntie gebruiken.\n",
    "def execution_time(func):\n",
    "    arr0 = list(np.random.randint(low = 0,high=1000,size=100))\n",
    "    arr1 = list(np.random.randint(low = 0,high=1000,size=1000))\n",
    "    arr2 = list(np.random.randint(low = 0,high=10000,size=10000))\n",
    "    arr3 = list(np.random.randint(low = 0,high=30000,size=30000))\n",
    "    \n",
    "    lst = [arr0, arr1, arr2, arr3]\n",
    "    run_time = []\n",
    "    for i in lst:\n",
    "        start = time.perf_counter()\n",
    "        func(i)\n",
    "        end = time.perf_counter()\n",
    "        \n",
    "        run_time.append((end - start))\n",
    "        print(\"Finished sorting list of {} numbers:  {} seconds\".format(len(i), end - start))\n",
    "    return run_time"
   ]
  },
  {
   "cell_type": "markdown",
   "metadata": {},
   "source": [
    "De ruimte complexiteit is gelijk aan O(n)"
   ]
  },
  {
   "cell_type": "code",
   "execution_count": 10,
   "metadata": {},
   "outputs": [
    {
     "name": "stdout",
     "output_type": "stream",
     "text": [
      "Finished sorting list of 100 numbers:  0.0029631999999999437 seconds\n",
      "Finished sorting list of 1000 numbers:  0.0308948 seconds\n",
      "Finished sorting list of 10000 numbers:  0.25240550000000006 seconds\n",
      "Finished sorting list of 30000 numbers:  0.9446718999999999 seconds\n"
     ]
    }
   ],
   "source": [
    "res = execution_time(sort_list)"
   ]
  },
  {
   "cell_type": "code",
   "execution_count": 11,
   "metadata": {},
   "outputs": [
    {
     "data": {
      "text/plain": [
       "[<matplotlib.lines.Line2D at 0x10ff5d90>]"
      ]
     },
     "execution_count": 11,
     "metadata": {},
     "output_type": "execute_result"
    },
    {
     "data": {
      "image/png": "[encoded data removed]",
      "text/plain": [
       "<Figure size 432x288 with 1 Axes>"
      ]
     },
     "metadata": {
      "needs_background": "light"
     },
     "output_type": "display_data"
    }
   ],
   "source": [
    "plt.plot([100, 1000, 10000, 30000], res, '-o')"
   ]
  },
  {
   "cell_type": "code",
   "execution_count": 12,
   "metadata": {},
   "outputs": [
    {
     "name": "stdout",
     "output_type": "stream",
     "text": [
      "Finished sorting list of 1 numbers:  0.0003953999999999347 seconds\n"
     ]
    }
   ],
   "source": [
    "arr_sorted = list(np.sort(np.arange(0, 1000, 30000)))\n",
    "start = time.perf_counter()\n",
    "sort_list(arr_sorted)\n",
    "end = time.perf_counter()\n",
    "print(\"Finished sorting list of {} numbers:  {} seconds\".format(len(arr_sorted), end - start))"
   ]
  },
  {
   "cell_type": "code",
   "execution_count": 13,
   "metadata": {},
   "outputs": [
    {
     "name": "stdout",
     "output_type": "stream",
     "text": [
      "Finished sorting list of 1 numbers:  0.0003775999999997559 seconds\n"
     ]
    }
   ],
   "source": [
    "start = time.perf_counter()\n",
    "sort_list(reversed(arr_sorted))\n",
    "end = time.perf_counter()\n",
    "print(\"Finished sorting list of {} numbers:  {} seconds\".format(len(arr_sorted), end - start))"
   ]
  },
  {
   "cell_type": "markdown",
   "metadata": {},
   "source": [
    "Uit https://www.bigocheatsheet.com kunne we zien  de tijds complextiteit van ee nbucket sort:\n"
   ]
  },
  {
   "cell_type": "markdown",
   "metadata": {},
   "source": [
    "Best case: O($n + k$) <br>\n",
    "In de beste scenario wordt er 1 keer door de lijst geitereerd -> n\n",
    "\n",
    "\n",
    "Worst case: O($n^2$) <br>\n",
    "\n",
    "Average case:O($n + k$) <br>"
   ]
  },
  {
   "cell_type": "markdown",
   "metadata": {},
   "source": [
    "\n",
    "\n"
   ]
  },
  {
   "cell_type": "markdown",
   "metadata": {},
   "source": [
    "Het programma doorloopt vervolgens de negatieve getallen en zet ze om in positieve getallen (abs) voor n negatieve getallen. 2n\n",
    "\n",
    "\n",
    "Herhaal vervolgens met zowel positieve als negatieve lijsten de volgende stappen twee keer:\n",
    "\n",
    "\n",
    "- Ga een voor een door de gehele getallen van de lijst.(n)\n",
    "- Sorteer alle buckets (n) \n",
    "- Run bucket_sort voor positieve getallen en voor negatieve getallen.\n",
    "    De letter l staat voor de langste cijfers van de cijfers.\n",
    "\n",
    "De abs van de \"negatieve\" getallen moet terugkeren naar negatief nadat het algoritme is uitgevoerd op zowel de \"negatieve\" als de \"positieve\" getallen, wat impliceert dat beide lijsten nu gesorteerd zijn.(2n)\n",
    "\n",
    "\n",
    "De laatste stap is het samenvoegen van de positieve en negatieve lijsten.(n)\n",
    "\n",
    "\n",
    "In dit geval staat k voor emmers."
   ]
  },
  {
   "cell_type": "markdown",
   "metadata": {},
   "source": [
    "Dit resulteert uiteindelijk in de volgende grote O:\n",
    "O(6n) \n",
    "\n",
    "Deze wordt dan O(n)"
   ]
  },
  {
   "cell_type": "code",
   "execution_count": null,
   "metadata": {},
   "outputs": [],
   "source": []
  }
 ],
 "metadata": {
  "kernelspec": {
   "display_name": "Python 3",
   "language": "python",
   "name": "python3"
  },
  "language_info": {
   "codemirror_mode": {
    "name": "ipython",
    "version": 3
   },
   "file_extension": ".py",
   "mimetype": "text/x-python",
   "name": "python",
   "nbconvert_exporter": "python",
   "pygments_lexer": "ipython3",
   "version": "3.8.1"
  }
 },
 "nbformat": 4,
 "nbformat_minor": 2
}
